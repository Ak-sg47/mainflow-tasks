{
 "cells": [
  {
   "cell_type": "code",
   "execution_count": 2,
   "id": "99bf0f4d-0e3f-4bf0-9aab-af3a0afa356d",
   "metadata": {},
   "outputs": [
    {
     "name": "stdout",
     "output_type": "stream",
     "text": [
      "['Apple', 'Banana', 'Cherry']\n",
      "['Apple', 'Banana', 'Cherry', 'Orange']\n",
      "['Apple', 'Cherry', 'Orange']\n",
      "['Apple', 'Blueberry', 'Orange']\n"
     ]
    }
   ],
   "source": [
    "mylist = [\"Apple\", \"Banana\", \"Cherry\"]\n",
    "print(mylist)\n",
    "\n",
    "mylist.append(\"Orange\")\n",
    "print(mylist)\n",
    "\n",
    "mylist.remove(\"Banana\")\n",
    "print(mylist)\n",
    "\n",
    "mylist[1] = \"Blueberry\"\n",
    "print(mylist)"
   ]
  },
  {
   "cell_type": "code",
   "execution_count": 4,
   "id": "cfe4e1bc-30bf-4641-afc2-909c4f9a032f",
   "metadata": {},
   "outputs": [
    {
     "name": "stdout",
     "output_type": "stream",
     "text": [
      "{'Brand': 'Hyundai', 'Model': 'Verna', 'Year': '2022'}\n",
      "{'Brand': 'Hyundai', 'Model': 'Verna', 'Year': 2020}\n",
      "{'Brand': 'Hyundai', 'Model': 'Verna', 'Year': 2020, 'Color': 'Black'}\n",
      "{'Brand': 'Hyundai', 'Year': 2020, 'Color': 'Black'}\n"
     ]
    }
   ],
   "source": [
    "mydict = {\"Brand\":\"Hyundai\",\n",
    "          \"Model\":\"Verna\",\n",
    "          \"Year\":\"2022\"}\n",
    "print(mydict)\n",
    "\n",
    "mydict[\"Year\"] = 2020\n",
    "print(mydict)\n",
    "\n",
    "mydict[\"Color\"] = \"Black\"\n",
    "print(mydict)\n",
    "\n",
    "mydict.pop(\"Model\")\n",
    "print(mydict)"
   ]
  },
  {
   "cell_type": "code",
   "execution_count": 5,
   "id": "3801e342-fb16-4a92-8d8c-a2c956993c64",
   "metadata": {},
   "outputs": [
    {
     "name": "stdout",
     "output_type": "stream",
     "text": [
      "{'banana', 'apple', 'cherry'}\n",
      "{'banana', 'apple', 'cherry', 'Blueberry'}\n",
      "{'pineapple', 'banana', 'apple', 'Blueberry', 'cherry'}\n",
      "{'pineapple', 'banana', 'Blueberry', 'cherry'}\n"
     ]
    }
   ],
   "source": [
    "myset = {\"apple\",\"banana\",\"cherry\"}\n",
    "mysets = {\"pineapple\"}\n",
    "print(myset)\n",
    "\n",
    "myset.add(\"Blueberry\")\n",
    "print(myset)\n",
    "\n",
    "myset.update(mysets)\n",
    "print(myset)\n",
    "\n",
    "myset.remove(\"apple\")\n",
    "print(myset)"
   ]
  },
  {
   "cell_type": "code",
   "execution_count": null,
   "id": "dfeb9a2f-480f-49ca-b173-86198edf65bc",
   "metadata": {},
   "outputs": [],
   "source": []
  }
 ],
 "metadata": {
  "kernelspec": {
   "display_name": "Python 3 (ipykernel)",
   "language": "python",
   "name": "python3"
  },
  "language_info": {
   "codemirror_mode": {
    "name": "ipython",
    "version": 3
   },
   "file_extension": ".py",
   "mimetype": "text/x-python",
   "name": "python",
   "nbconvert_exporter": "python",
   "pygments_lexer": "ipython3",
   "version": "3.11.7"
  }
 },
 "nbformat": 4,
 "nbformat_minor": 5
}
